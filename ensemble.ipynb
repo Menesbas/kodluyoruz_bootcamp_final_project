{
 "cells": [
  {
   "cell_type": "code",
   "execution_count": 1,
   "id": "da497dc8",
   "metadata": {},
   "outputs": [],
   "source": [
    "%config Completer.use_jedi = False"
   ]
  },
  {
   "cell_type": "code",
   "execution_count": 2,
   "id": "40559631",
   "metadata": {},
   "outputs": [],
   "source": [
    "import os\n",
    "import numpy as np\n",
    "import pandas as pd\n",
    "import matplotlib.pyplot as plt\n",
    "import seaborn as sns\n",
    "import warnings\n",
    "warnings.filterwarnings(\"ignore\")"
   ]
  },
  {
   "cell_type": "code",
   "execution_count": 3,
   "id": "16c0d697",
   "metadata": {},
   "outputs": [],
   "source": [
    "df = pd.read_pickle(\"train.pkl\")"
   ]
  },
  {
   "cell_type": "code",
   "execution_count": 4,
   "id": "3cd0af9b",
   "metadata": {},
   "outputs": [],
   "source": [
    "df = df.sort_values(\"order_date\")\n",
    "#df"
   ]
  },
  {
   "cell_type": "code",
   "execution_count": 5,
   "id": "428f5f29",
   "metadata": {},
   "outputs": [],
   "source": [
    "drop_cols = [\"order_date\", \"user_id\", \"supplier_id\", \"order_line_item_id\", \"order_parent_id\"]\n",
    "\n",
    "\n",
    "df = df.drop(drop_cols, axis=1)"
   ]
  },
  {
   "cell_type": "code",
   "execution_count": 6,
   "id": "a21d51cb",
   "metadata": {},
   "outputs": [],
   "source": [
    "train_0 = df[df.is_returned == 0]\n",
    "train_1 = df[df.is_returned == 1]"
   ]
  },
  {
   "cell_type": "code",
   "execution_count": 7,
   "id": "01347958",
   "metadata": {},
   "outputs": [
    {
     "data": {
      "text/plain": [
       "(9402321, 37)"
      ]
     },
     "execution_count": 7,
     "metadata": {},
     "output_type": "execute_result"
    }
   ],
   "source": [
    "train_0.shape"
   ]
  },
  {
   "cell_type": "code",
   "execution_count": 8,
   "id": "f453ec6f",
   "metadata": {},
   "outputs": [
    {
     "data": {
      "text/plain": [
       "(1370340, 37)"
      ]
     },
     "execution_count": 8,
     "metadata": {},
     "output_type": "execute_result"
    }
   ],
   "source": [
    "train_1.shape"
   ]
  },
  {
   "cell_type": "code",
   "execution_count": 9,
   "id": "55e2bd0e",
   "metadata": {},
   "outputs": [
    {
     "data": {
      "text/plain": [
       "6.86130522352117"
      ]
     },
     "execution_count": 9,
     "metadata": {},
     "output_type": "execute_result"
    }
   ],
   "source": [
    "9402321/1370340"
   ]
  },
  {
   "cell_type": "code",
   "execution_count": 11,
   "id": "67389b4b",
   "metadata": {},
   "outputs": [],
   "source": [
    "inc = train_1.shape[0]\n",
    "dfs = []\n",
    "\n",
    "for i in range(7):\n",
    "    start_idx = i*inc\n",
    "    end_idx = start_idx + inc\n",
    "    #print(start_idx, end_idx)\n",
    "    dfs.append(pd.concat([train_0.iloc[start_idx:end_idx, :], train_1]))"
   ]
  },
  {
   "cell_type": "code",
   "execution_count": null,
   "id": "9d149222",
   "metadata": {},
   "outputs": [],
   "source": []
  },
  {
   "cell_type": "code",
   "execution_count": null,
   "id": "9b485f2c",
   "metadata": {},
   "outputs": [],
   "source": []
  },
  {
   "cell_type": "code",
   "execution_count": 20,
   "id": "b06decc8",
   "metadata": {
    "scrolled": true
   },
   "outputs": [
    {
     "name": "stdout",
     "output_type": "stream",
     "text": [
      "0.9318378668771722\n",
      "0.9143039762925946\n",
      "0.9002131579898118\n",
      "0.9007006436102819\n",
      "0.8996903957815975\n",
      "0.9126097539772233\n",
      "0.9313159582531632\n"
     ]
    }
   ],
   "source": [
    "from sklearn.model_selection import train_test_split\n",
    "from lightgbm import LGBMClassifier, plot_importance\n",
    "from sklearn.metrics import f1_score, confusion_matrix, classification_report\n",
    "\n",
    "models = []\n",
    "for data in dfs:\n",
    "    X_train, X_val, y_train, y_val = train_test_split(data.drop(\"is_returned\", axis=1),\n",
    "                                                       data[\"is_returned\"],\n",
    "                                                       stratify=data[\"is_returned\"],\n",
    "                                                       random_state=0,\n",
    "                                                       test_size=0.1)\n",
    "\n",
    "    model = LGBMClassifier(random_state=0)\n",
    "    model.fit(X_train, y_train)\n",
    "    models.append(model)\n",
    "    preds = model.predict(X_val)\n",
    "    print(f1_score(y_val, preds))"
   ]
  },
  {
   "cell_type": "code",
   "execution_count": null,
   "id": "e339da87",
   "metadata": {},
   "outputs": [],
   "source": []
  },
  {
   "cell_type": "code",
   "execution_count": null,
   "id": "6d918a7c",
   "metadata": {},
   "outputs": [],
   "source": []
  },
  {
   "cell_type": "code",
   "execution_count": 138,
   "id": "ae03c854",
   "metadata": {},
   "outputs": [
    {
     "data": {
      "text/html": [
       "<div>\n",
       "<style scoped>\n",
       "    .dataframe tbody tr th:only-of-type {\n",
       "        vertical-align: middle;\n",
       "    }\n",
       "\n",
       "    .dataframe tbody tr th {\n",
       "        vertical-align: top;\n",
       "    }\n",
       "\n",
       "    .dataframe thead th {\n",
       "        text-align: right;\n",
       "    }\n",
       "</style>\n",
       "<table border=\"1\" class=\"dataframe\">\n",
       "  <thead>\n",
       "    <tr style=\"text-align: right;\">\n",
       "      <th></th>\n",
       "      <th>order_date</th>\n",
       "      <th>user_id</th>\n",
       "      <th>is_elite_user</th>\n",
       "      <th>supplier_id</th>\n",
       "      <th>order_line_item_id</th>\n",
       "      <th>order_parent_id</th>\n",
       "      <th>product_content_id</th>\n",
       "      <th>product_variant_id</th>\n",
       "      <th>original_price</th>\n",
       "      <th>discounted_price</th>\n",
       "      <th>...</th>\n",
       "      <th>rate_prod_max</th>\n",
       "      <th>rate_max</th>\n",
       "      <th>rate_prod_mean</th>\n",
       "      <th>rate_mean</th>\n",
       "      <th>returnRate</th>\n",
       "      <th>defective_returnRate</th>\n",
       "      <th>total_claim</th>\n",
       "      <th>unresolved_claim</th>\n",
       "      <th>unresolved_accepted_claim</th>\n",
       "      <th>unresolvedclaim_percentage</th>\n",
       "    </tr>\n",
       "  </thead>\n",
       "  <tbody>\n",
       "    <tr>\n",
       "      <th>88</th>\n",
       "      <td>2021-08-01 20:25:51.462000+00:00</td>\n",
       "      <td>10505160</td>\n",
       "      <td>0</td>\n",
       "      <td>4442</td>\n",
       "      <td>1109528418</td>\n",
       "      <td>723041833</td>\n",
       "      <td>73655340</td>\n",
       "      <td>126823590</td>\n",
       "      <td>99.9375</td>\n",
       "      <td>99.9375</td>\n",
       "      <td>...</td>\n",
       "      <td>5.0</td>\n",
       "      <td>5.0</td>\n",
       "      <td>4.654639</td>\n",
       "      <td>4.654639</td>\n",
       "      <td>0.049683</td>\n",
       "      <td>0.00076</td>\n",
       "      <td>170200.0</td>\n",
       "      <td>43.0</td>\n",
       "      <td>2.0</td>\n",
       "      <td>0.046509</td>\n",
       "    </tr>\n",
       "    <tr>\n",
       "      <th>93</th>\n",
       "      <td>2021-08-04 12:26:54.966000+00:00</td>\n",
       "      <td>64880957</td>\n",
       "      <td>0</td>\n",
       "      <td>4442</td>\n",
       "      <td>1114797805</td>\n",
       "      <td>726087440</td>\n",
       "      <td>73655340</td>\n",
       "      <td>126823590</td>\n",
       "      <td>99.9375</td>\n",
       "      <td>74.9375</td>\n",
       "      <td>...</td>\n",
       "      <td>5.0</td>\n",
       "      <td>5.0</td>\n",
       "      <td>4.654639</td>\n",
       "      <td>4.654639</td>\n",
       "      <td>0.049683</td>\n",
       "      <td>0.00076</td>\n",
       "      <td>170200.0</td>\n",
       "      <td>43.0</td>\n",
       "      <td>2.0</td>\n",
       "      <td>0.046509</td>\n",
       "    </tr>\n",
       "    <tr>\n",
       "      <th>138</th>\n",
       "      <td>2021-08-03 23:04:19.178000+00:00</td>\n",
       "      <td>908797</td>\n",
       "      <td>0</td>\n",
       "      <td>4442</td>\n",
       "      <td>1114230175</td>\n",
       "      <td>725753274</td>\n",
       "      <td>73655340</td>\n",
       "      <td>126823590</td>\n",
       "      <td>99.9375</td>\n",
       "      <td>74.9375</td>\n",
       "      <td>...</td>\n",
       "      <td>5.0</td>\n",
       "      <td>5.0</td>\n",
       "      <td>4.654639</td>\n",
       "      <td>4.654639</td>\n",
       "      <td>0.049683</td>\n",
       "      <td>0.00076</td>\n",
       "      <td>170200.0</td>\n",
       "      <td>43.0</td>\n",
       "      <td>2.0</td>\n",
       "      <td>0.046509</td>\n",
       "    </tr>\n",
       "    <tr>\n",
       "      <th>159</th>\n",
       "      <td>2021-08-06 00:12:47.500000+00:00</td>\n",
       "      <td>4527825</td>\n",
       "      <td>0</td>\n",
       "      <td>4442</td>\n",
       "      <td>1117826558</td>\n",
       "      <td>727894275</td>\n",
       "      <td>73655340</td>\n",
       "      <td>126823590</td>\n",
       "      <td>99.9375</td>\n",
       "      <td>74.9375</td>\n",
       "      <td>...</td>\n",
       "      <td>5.0</td>\n",
       "      <td>5.0</td>\n",
       "      <td>4.654639</td>\n",
       "      <td>4.654639</td>\n",
       "      <td>0.049683</td>\n",
       "      <td>0.00076</td>\n",
       "      <td>170200.0</td>\n",
       "      <td>43.0</td>\n",
       "      <td>2.0</td>\n",
       "      <td>0.046509</td>\n",
       "    </tr>\n",
       "    <tr>\n",
       "      <th>177</th>\n",
       "      <td>2021-08-07 22:25:41.777000+00:00</td>\n",
       "      <td>12926531</td>\n",
       "      <td>0</td>\n",
       "      <td>4442</td>\n",
       "      <td>1121135072</td>\n",
       "      <td>729879757</td>\n",
       "      <td>73655340</td>\n",
       "      <td>126823590</td>\n",
       "      <td>99.9375</td>\n",
       "      <td>74.9375</td>\n",
       "      <td>...</td>\n",
       "      <td>5.0</td>\n",
       "      <td>5.0</td>\n",
       "      <td>4.654639</td>\n",
       "      <td>4.654639</td>\n",
       "      <td>0.049683</td>\n",
       "      <td>0.00076</td>\n",
       "      <td>170200.0</td>\n",
       "      <td>43.0</td>\n",
       "      <td>2.0</td>\n",
       "      <td>0.046509</td>\n",
       "    </tr>\n",
       "  </tbody>\n",
       "</table>\n",
       "<p>5 rows × 42 columns</p>\n",
       "</div>"
      ],
      "text/plain": [
       "                           order_date   user_id  is_elite_user  supplier_id  \\\n",
       "88   2021-08-01 20:25:51.462000+00:00  10505160              0         4442   \n",
       "93   2021-08-04 12:26:54.966000+00:00  64880957              0         4442   \n",
       "138  2021-08-03 23:04:19.178000+00:00    908797              0         4442   \n",
       "159  2021-08-06 00:12:47.500000+00:00   4527825              0         4442   \n",
       "177  2021-08-07 22:25:41.777000+00:00  12926531              0         4442   \n",
       "\n",
       "     order_line_item_id  order_parent_id  product_content_id  \\\n",
       "88           1109528418        723041833            73655340   \n",
       "93           1114797805        726087440            73655340   \n",
       "138          1114230175        725753274            73655340   \n",
       "159          1117826558        727894275            73655340   \n",
       "177          1121135072        729879757            73655340   \n",
       "\n",
       "     product_variant_id  original_price  discounted_price  ...  rate_prod_max  \\\n",
       "88            126823590         99.9375           99.9375  ...            5.0   \n",
       "93            126823590         99.9375           74.9375  ...            5.0   \n",
       "138           126823590         99.9375           74.9375  ...            5.0   \n",
       "159           126823590         99.9375           74.9375  ...            5.0   \n",
       "177           126823590         99.9375           74.9375  ...            5.0   \n",
       "\n",
       "     rate_max  rate_prod_mean  rate_mean  returnRate  defective_returnRate  \\\n",
       "88        5.0        4.654639   4.654639    0.049683               0.00076   \n",
       "93        5.0        4.654639   4.654639    0.049683               0.00076   \n",
       "138       5.0        4.654639   4.654639    0.049683               0.00076   \n",
       "159       5.0        4.654639   4.654639    0.049683               0.00076   \n",
       "177       5.0        4.654639   4.654639    0.049683               0.00076   \n",
       "\n",
       "     total_claim  unresolved_claim  unresolved_accepted_claim  \\\n",
       "88      170200.0              43.0                        2.0   \n",
       "93      170200.0              43.0                        2.0   \n",
       "138     170200.0              43.0                        2.0   \n",
       "159     170200.0              43.0                        2.0   \n",
       "177     170200.0              43.0                        2.0   \n",
       "\n",
       "     unresolvedclaim_percentage  \n",
       "88                     0.046509  \n",
       "93                     0.046509  \n",
       "138                    0.046509  \n",
       "159                    0.046509  \n",
       "177                    0.046509  \n",
       "\n",
       "[5 rows x 42 columns]"
      ]
     },
     "execution_count": 138,
     "metadata": {},
     "output_type": "execute_result"
    }
   ],
   "source": [
    "test = pd.read_pickle(\"test.pkl\")\n",
    "test.head()"
   ]
  },
  {
   "cell_type": "code",
   "execution_count": 139,
   "id": "4b61cdb3",
   "metadata": {},
   "outputs": [],
   "source": [
    "X_test = test[X_train.columns]"
   ]
  },
  {
   "cell_type": "code",
   "execution_count": 140,
   "id": "3fb4ee68",
   "metadata": {},
   "outputs": [],
   "source": [
    "for i, clf in enumerate(models):\n",
    "    preds = clf.predict(X_test)\n",
    "    test[\"preds_\"+str(i)] = preds"
   ]
  },
  {
   "cell_type": "markdown",
   "id": "b167566c",
   "metadata": {},
   "source": [
    "## Voting"
   ]
  },
  {
   "cell_type": "code",
   "execution_count": 119,
   "id": "af463511",
   "metadata": {},
   "outputs": [],
   "source": [
    "#test[\"preds_final\"] = test.iloc[:, -7:].apply(lambda x: x.mode(), axis=1)"
   ]
  },
  {
   "cell_type": "code",
   "execution_count": 120,
   "id": "93d89294",
   "metadata": {},
   "outputs": [],
   "source": [
    "#test[\"preds_final\"] = test.iloc[:, -7:].apply(lambda x: x.max(), axis=1)"
   ]
  },
  {
   "cell_type": "code",
   "execution_count": 141,
   "id": "c57faaa5",
   "metadata": {},
   "outputs": [],
   "source": [
    "test[\"preds_final\"] = test.iloc[:, -7:].apply(lambda x: int(x.sum() > 6), axis=1)"
   ]
  },
  {
   "cell_type": "code",
   "execution_count": 134,
   "id": "acca702c",
   "metadata": {},
   "outputs": [],
   "source": [
    "test[\"id\"] = test.apply(lambda x: str(x.user_id)+\"|\"+str(x.product_content_id)+\"|\"+str(x.order_parent_id), axis=1)"
   ]
  },
  {
   "cell_type": "code",
   "execution_count": 144,
   "id": "656a2a30",
   "metadata": {},
   "outputs": [
    {
     "data": {
      "text/plain": [
       "0.0    421016\n",
       "Name: preds_final, dtype: int64"
      ]
     },
     "execution_count": 144,
     "metadata": {},
     "output_type": "execute_result"
    }
   ],
   "source": [
    "test[\"preds_final\"].value_counts()"
   ]
  },
  {
   "cell_type": "code",
   "execution_count": 135,
   "id": "a4bb1573",
   "metadata": {},
   "outputs": [
    {
     "data": {
      "text/html": [
       "<div>\n",
       "<style scoped>\n",
       "    .dataframe tbody tr th:only-of-type {\n",
       "        vertical-align: middle;\n",
       "    }\n",
       "\n",
       "    .dataframe tbody tr th {\n",
       "        vertical-align: top;\n",
       "    }\n",
       "\n",
       "    .dataframe thead th {\n",
       "        text-align: right;\n",
       "    }\n",
       "</style>\n",
       "<table border=\"1\" class=\"dataframe\">\n",
       "  <thead>\n",
       "    <tr style=\"text-align: right;\">\n",
       "      <th></th>\n",
       "      <th>id</th>\n",
       "      <th>preds_final</th>\n",
       "    </tr>\n",
       "  </thead>\n",
       "  <tbody>\n",
       "    <tr>\n",
       "      <th>0</th>\n",
       "      <td>10000099|124684006|726798736</td>\n",
       "      <td>0</td>\n",
       "    </tr>\n",
       "    <tr>\n",
       "      <th>1</th>\n",
       "      <td>10000099|92327604|727936988</td>\n",
       "      <td>0</td>\n",
       "    </tr>\n",
       "    <tr>\n",
       "      <th>2</th>\n",
       "      <td>10000099|92696330|726906909</td>\n",
       "      <td>0</td>\n",
       "    </tr>\n",
       "    <tr>\n",
       "      <th>3</th>\n",
       "      <td>10000099|94935954|726798736</td>\n",
       "      <td>0</td>\n",
       "    </tr>\n",
       "    <tr>\n",
       "      <th>4</th>\n",
       "      <td>10000109|93878976|722737629</td>\n",
       "      <td>0</td>\n",
       "    </tr>\n",
       "    <tr>\n",
       "      <th>...</th>\n",
       "      <td>...</td>\n",
       "      <td>...</td>\n",
       "    </tr>\n",
       "    <tr>\n",
       "      <th>405277</th>\n",
       "      <td>9999967|35527270|727780795</td>\n",
       "      <td>0</td>\n",
       "    </tr>\n",
       "    <tr>\n",
       "      <th>405278</th>\n",
       "      <td>9999967|37635011|727780795</td>\n",
       "      <td>0</td>\n",
       "    </tr>\n",
       "    <tr>\n",
       "      <th>405279</th>\n",
       "      <td>9999967|79616260|727780795</td>\n",
       "      <td>0</td>\n",
       "    </tr>\n",
       "    <tr>\n",
       "      <th>405280</th>\n",
       "      <td>9999967|86570446|727780795</td>\n",
       "      <td>0</td>\n",
       "    </tr>\n",
       "    <tr>\n",
       "      <th>405281</th>\n",
       "      <td>9999967|88287383|727780795</td>\n",
       "      <td>0</td>\n",
       "    </tr>\n",
       "  </tbody>\n",
       "</table>\n",
       "<p>405282 rows × 2 columns</p>\n",
       "</div>"
      ],
      "text/plain": [
       "                                  id  preds_final\n",
       "0       10000099|124684006|726798736            0\n",
       "1        10000099|92327604|727936988            0\n",
       "2        10000099|92696330|726906909            0\n",
       "3        10000099|94935954|726798736            0\n",
       "4        10000109|93878976|722737629            0\n",
       "...                              ...          ...\n",
       "405277    9999967|35527270|727780795            0\n",
       "405278    9999967|37635011|727780795            0\n",
       "405279    9999967|79616260|727780795            0\n",
       "405280    9999967|86570446|727780795            0\n",
       "405281    9999967|88287383|727780795            0\n",
       "\n",
       "[405282 rows x 2 columns]"
      ]
     },
     "execution_count": 135,
     "metadata": {},
     "output_type": "execute_result"
    }
   ],
   "source": [
    "#test = test.groupby(\"id\")[\"preds_final\"].max().reset_index()\n",
    "#test"
   ]
  },
  {
   "cell_type": "code",
   "execution_count": 124,
   "id": "c0cc32a2",
   "metadata": {},
   "outputs": [
    {
     "data": {
      "text/html": [
       "<div>\n",
       "<style scoped>\n",
       "    .dataframe tbody tr th:only-of-type {\n",
       "        vertical-align: middle;\n",
       "    }\n",
       "\n",
       "    .dataframe tbody tr th {\n",
       "        vertical-align: top;\n",
       "    }\n",
       "\n",
       "    .dataframe thead th {\n",
       "        text-align: right;\n",
       "    }\n",
       "</style>\n",
       "<table border=\"1\" class=\"dataframe\">\n",
       "  <thead>\n",
       "    <tr style=\"text-align: right;\">\n",
       "      <th></th>\n",
       "      <th>id</th>\n",
       "      <th>expected</th>\n",
       "    </tr>\n",
       "  </thead>\n",
       "  <tbody>\n",
       "    <tr>\n",
       "      <th>0</th>\n",
       "      <td>18115|87073974|726348863</td>\n",
       "      <td>NaN</td>\n",
       "    </tr>\n",
       "    <tr>\n",
       "      <th>1</th>\n",
       "      <td>27588|118753298|723169934</td>\n",
       "      <td>NaN</td>\n",
       "    </tr>\n",
       "    <tr>\n",
       "      <th>2</th>\n",
       "      <td>29165|35699988|724122443</td>\n",
       "      <td>NaN</td>\n",
       "    </tr>\n",
       "    <tr>\n",
       "      <th>3</th>\n",
       "      <td>29969|5893187|722342150</td>\n",
       "      <td>NaN</td>\n",
       "    </tr>\n",
       "    <tr>\n",
       "      <th>4</th>\n",
       "      <td>35107|93897418|723421057</td>\n",
       "      <td>NaN</td>\n",
       "    </tr>\n",
       "    <tr>\n",
       "      <th>...</th>\n",
       "      <td>...</td>\n",
       "      <td>...</td>\n",
       "    </tr>\n",
       "    <tr>\n",
       "      <th>7466</th>\n",
       "      <td>71083899|100019570|728638514</td>\n",
       "      <td>NaN</td>\n",
       "    </tr>\n",
       "    <tr>\n",
       "      <th>7467</th>\n",
       "      <td>71106534|35624085|725372928</td>\n",
       "      <td>NaN</td>\n",
       "    </tr>\n",
       "    <tr>\n",
       "      <th>7468</th>\n",
       "      <td>71115350|94438742|725291348</td>\n",
       "      <td>NaN</td>\n",
       "    </tr>\n",
       "    <tr>\n",
       "      <th>7469</th>\n",
       "      <td>71115350|100017676|725291348</td>\n",
       "      <td>NaN</td>\n",
       "    </tr>\n",
       "    <tr>\n",
       "      <th>7470</th>\n",
       "      <td>71160557|87073974|726377172</td>\n",
       "      <td>NaN</td>\n",
       "    </tr>\n",
       "  </tbody>\n",
       "</table>\n",
       "<p>7471 rows × 2 columns</p>\n",
       "</div>"
      ],
      "text/plain": [
       "                                id  expected\n",
       "0         18115|87073974|726348863       NaN\n",
       "1        27588|118753298|723169934       NaN\n",
       "2         29165|35699988|724122443       NaN\n",
       "3          29969|5893187|722342150       NaN\n",
       "4         35107|93897418|723421057       NaN\n",
       "...                            ...       ...\n",
       "7466  71083899|100019570|728638514       NaN\n",
       "7467   71106534|35624085|725372928       NaN\n",
       "7468   71115350|94438742|725291348       NaN\n",
       "7469  71115350|100017676|725291348       NaN\n",
       "7470   71160557|87073974|726377172       NaN\n",
       "\n",
       "[7471 rows x 2 columns]"
      ]
     },
     "execution_count": 124,
     "metadata": {},
     "output_type": "execute_result"
    }
   ],
   "source": [
    "test_data = pd.read_csv(\"test_data.csv\")\n",
    "test_data"
   ]
  },
  {
   "cell_type": "code",
   "execution_count": 125,
   "id": "c1fd8526",
   "metadata": {},
   "outputs": [
    {
     "data": {
      "text/html": [
       "<div>\n",
       "<style scoped>\n",
       "    .dataframe tbody tr th:only-of-type {\n",
       "        vertical-align: middle;\n",
       "    }\n",
       "\n",
       "    .dataframe tbody tr th {\n",
       "        vertical-align: top;\n",
       "    }\n",
       "\n",
       "    .dataframe thead th {\n",
       "        text-align: right;\n",
       "    }\n",
       "</style>\n",
       "<table border=\"1\" class=\"dataframe\">\n",
       "  <thead>\n",
       "    <tr style=\"text-align: right;\">\n",
       "      <th></th>\n",
       "      <th>id</th>\n",
       "      <th>expected</th>\n",
       "      <th>preds_final</th>\n",
       "    </tr>\n",
       "  </thead>\n",
       "  <tbody>\n",
       "    <tr>\n",
       "      <th>0</th>\n",
       "      <td>18115|87073974|726348863</td>\n",
       "      <td>NaN</td>\n",
       "      <td>1</td>\n",
       "    </tr>\n",
       "    <tr>\n",
       "      <th>1</th>\n",
       "      <td>27588|118753298|723169934</td>\n",
       "      <td>NaN</td>\n",
       "      <td>1</td>\n",
       "    </tr>\n",
       "    <tr>\n",
       "      <th>2</th>\n",
       "      <td>29165|35699988|724122443</td>\n",
       "      <td>NaN</td>\n",
       "      <td>0</td>\n",
       "    </tr>\n",
       "    <tr>\n",
       "      <th>3</th>\n",
       "      <td>29969|5893187|722342150</td>\n",
       "      <td>NaN</td>\n",
       "      <td>1</td>\n",
       "    </tr>\n",
       "    <tr>\n",
       "      <th>4</th>\n",
       "      <td>35107|93897418|723421057</td>\n",
       "      <td>NaN</td>\n",
       "      <td>0</td>\n",
       "    </tr>\n",
       "    <tr>\n",
       "      <th>...</th>\n",
       "      <td>...</td>\n",
       "      <td>...</td>\n",
       "      <td>...</td>\n",
       "    </tr>\n",
       "    <tr>\n",
       "      <th>7466</th>\n",
       "      <td>71083899|100019570|728638514</td>\n",
       "      <td>NaN</td>\n",
       "      <td>1</td>\n",
       "    </tr>\n",
       "    <tr>\n",
       "      <th>7467</th>\n",
       "      <td>71106534|35624085|725372928</td>\n",
       "      <td>NaN</td>\n",
       "      <td>0</td>\n",
       "    </tr>\n",
       "    <tr>\n",
       "      <th>7468</th>\n",
       "      <td>71115350|94438742|725291348</td>\n",
       "      <td>NaN</td>\n",
       "      <td>0</td>\n",
       "    </tr>\n",
       "    <tr>\n",
       "      <th>7469</th>\n",
       "      <td>71115350|100017676|725291348</td>\n",
       "      <td>NaN</td>\n",
       "      <td>0</td>\n",
       "    </tr>\n",
       "    <tr>\n",
       "      <th>7470</th>\n",
       "      <td>71160557|87073974|726377172</td>\n",
       "      <td>NaN</td>\n",
       "      <td>1</td>\n",
       "    </tr>\n",
       "  </tbody>\n",
       "</table>\n",
       "<p>7471 rows × 3 columns</p>\n",
       "</div>"
      ],
      "text/plain": [
       "                                id  expected  preds_final\n",
       "0         18115|87073974|726348863       NaN            1\n",
       "1        27588|118753298|723169934       NaN            1\n",
       "2         29165|35699988|724122443       NaN            0\n",
       "3          29969|5893187|722342150       NaN            1\n",
       "4         35107|93897418|723421057       NaN            0\n",
       "...                            ...       ...          ...\n",
       "7466  71083899|100019570|728638514       NaN            1\n",
       "7467   71106534|35624085|725372928       NaN            0\n",
       "7468   71115350|94438742|725291348       NaN            0\n",
       "7469  71115350|100017676|725291348       NaN            0\n",
       "7470   71160557|87073974|726377172       NaN            1\n",
       "\n",
       "[7471 rows x 3 columns]"
      ]
     },
     "execution_count": 125,
     "metadata": {},
     "output_type": "execute_result"
    }
   ],
   "source": [
    "test_final = test_data.merge(test, on=\"id\", how=\"left\")\n",
    "test_final"
   ]
  },
  {
   "cell_type": "code",
   "execution_count": 126,
   "id": "22da1c38",
   "metadata": {},
   "outputs": [
    {
     "data": {
      "text/html": [
       "<div>\n",
       "<style scoped>\n",
       "    .dataframe tbody tr th:only-of-type {\n",
       "        vertical-align: middle;\n",
       "    }\n",
       "\n",
       "    .dataframe tbody tr th {\n",
       "        vertical-align: top;\n",
       "    }\n",
       "\n",
       "    .dataframe thead th {\n",
       "        text-align: right;\n",
       "    }\n",
       "</style>\n",
       "<table border=\"1\" class=\"dataframe\">\n",
       "  <thead>\n",
       "    <tr style=\"text-align: right;\">\n",
       "      <th></th>\n",
       "      <th>id</th>\n",
       "      <th>expected</th>\n",
       "    </tr>\n",
       "  </thead>\n",
       "  <tbody>\n",
       "    <tr>\n",
       "      <th>0</th>\n",
       "      <td>18115|87073974|726348863</td>\n",
       "      <td>1</td>\n",
       "    </tr>\n",
       "    <tr>\n",
       "      <th>1</th>\n",
       "      <td>27588|118753298|723169934</td>\n",
       "      <td>1</td>\n",
       "    </tr>\n",
       "    <tr>\n",
       "      <th>2</th>\n",
       "      <td>29165|35699988|724122443</td>\n",
       "      <td>0</td>\n",
       "    </tr>\n",
       "    <tr>\n",
       "      <th>3</th>\n",
       "      <td>29969|5893187|722342150</td>\n",
       "      <td>1</td>\n",
       "    </tr>\n",
       "    <tr>\n",
       "      <th>4</th>\n",
       "      <td>35107|93897418|723421057</td>\n",
       "      <td>0</td>\n",
       "    </tr>\n",
       "    <tr>\n",
       "      <th>...</th>\n",
       "      <td>...</td>\n",
       "      <td>...</td>\n",
       "    </tr>\n",
       "    <tr>\n",
       "      <th>7466</th>\n",
       "      <td>71083899|100019570|728638514</td>\n",
       "      <td>1</td>\n",
       "    </tr>\n",
       "    <tr>\n",
       "      <th>7467</th>\n",
       "      <td>71106534|35624085|725372928</td>\n",
       "      <td>0</td>\n",
       "    </tr>\n",
       "    <tr>\n",
       "      <th>7468</th>\n",
       "      <td>71115350|94438742|725291348</td>\n",
       "      <td>0</td>\n",
       "    </tr>\n",
       "    <tr>\n",
       "      <th>7469</th>\n",
       "      <td>71115350|100017676|725291348</td>\n",
       "      <td>0</td>\n",
       "    </tr>\n",
       "    <tr>\n",
       "      <th>7470</th>\n",
       "      <td>71160557|87073974|726377172</td>\n",
       "      <td>1</td>\n",
       "    </tr>\n",
       "  </tbody>\n",
       "</table>\n",
       "<p>7471 rows × 2 columns</p>\n",
       "</div>"
      ],
      "text/plain": [
       "                                id  expected\n",
       "0         18115|87073974|726348863         1\n",
       "1        27588|118753298|723169934         1\n",
       "2         29165|35699988|724122443         0\n",
       "3          29969|5893187|722342150         1\n",
       "4         35107|93897418|723421057         0\n",
       "...                            ...       ...\n",
       "7466  71083899|100019570|728638514         1\n",
       "7467   71106534|35624085|725372928         0\n",
       "7468   71115350|94438742|725291348         0\n",
       "7469  71115350|100017676|725291348         0\n",
       "7470   71160557|87073974|726377172         1\n",
       "\n",
       "[7471 rows x 2 columns]"
      ]
     },
     "execution_count": 126,
     "metadata": {},
     "output_type": "execute_result"
    }
   ],
   "source": [
    "test_final = test_final.drop(\"expected\", axis=1)\n",
    "test_final.columns = [\"id\", \"expected\"]\n",
    "test_final"
   ]
  },
  {
   "cell_type": "code",
   "execution_count": 111,
   "id": "08acacfe",
   "metadata": {},
   "outputs": [],
   "source": [
    "test_final[\"expected\"] = test_final[\"expected\"].astype(int)"
   ]
  },
  {
   "cell_type": "code",
   "execution_count": 127,
   "id": "22c0a15c",
   "metadata": {},
   "outputs": [
    {
     "data": {
      "text/plain": [
       "0    0.841253\n",
       "1    0.158747\n",
       "Name: expected, dtype: float64"
      ]
     },
     "execution_count": 127,
     "metadata": {},
     "output_type": "execute_result"
    }
   ],
   "source": [
    "test_final[\"expected\"].value_counts(normalize=True)"
   ]
  },
  {
   "cell_type": "code",
   "execution_count": 128,
   "id": "262e3f3a",
   "metadata": {},
   "outputs": [
    {
     "data": {
      "text/plain": [
       "0    6285\n",
       "1    1186\n",
       "Name: expected, dtype: int64"
      ]
     },
     "execution_count": 128,
     "metadata": {},
     "output_type": "execute_result"
    }
   ],
   "source": [
    "test_final[\"expected\"].value_counts()"
   ]
  },
  {
   "cell_type": "code",
   "execution_count": 129,
   "id": "88de7227",
   "metadata": {},
   "outputs": [],
   "source": [
    "test_final.to_csv(\"2022_04_19_deneme6.csv\", index=False)"
   ]
  },
  {
   "cell_type": "code",
   "execution_count": null,
   "id": "e0b59767",
   "metadata": {},
   "outputs": [],
   "source": []
  },
  {
   "cell_type": "code",
   "execution_count": null,
   "id": "590d80cb",
   "metadata": {},
   "outputs": [],
   "source": []
  },
  {
   "cell_type": "code",
   "execution_count": null,
   "id": "9153ff73",
   "metadata": {},
   "outputs": [],
   "source": []
  },
  {
   "cell_type": "code",
   "execution_count": null,
   "id": "6df694d6",
   "metadata": {},
   "outputs": [],
   "source": []
  },
  {
   "cell_type": "code",
   "execution_count": null,
   "id": "42aeb10a",
   "metadata": {},
   "outputs": [],
   "source": []
  },
  {
   "cell_type": "code",
   "execution_count": null,
   "id": "8cc88309",
   "metadata": {},
   "outputs": [],
   "source": []
  },
  {
   "cell_type": "code",
   "execution_count": null,
   "id": "8246baea",
   "metadata": {},
   "outputs": [],
   "source": []
  },
  {
   "cell_type": "code",
   "execution_count": null,
   "id": "d3098747",
   "metadata": {},
   "outputs": [],
   "source": []
  },
  {
   "cell_type": "code",
   "execution_count": null,
   "id": "91e4e457",
   "metadata": {},
   "outputs": [],
   "source": []
  },
  {
   "cell_type": "code",
   "execution_count": null,
   "id": "e63b9646",
   "metadata": {},
   "outputs": [],
   "source": []
  },
  {
   "cell_type": "code",
   "execution_count": null,
   "id": "14371990",
   "metadata": {},
   "outputs": [],
   "source": []
  }
 ],
 "metadata": {
  "kernelspec": {
   "display_name": "dpi",
   "language": "python",
   "name": "dpi"
  },
  "language_info": {
   "codemirror_mode": {
    "name": "ipython",
    "version": 3
   },
   "file_extension": ".py",
   "mimetype": "text/x-python",
   "name": "python",
   "nbconvert_exporter": "python",
   "pygments_lexer": "ipython3",
   "version": "3.7.10"
  }
 },
 "nbformat": 4,
 "nbformat_minor": 5
}
